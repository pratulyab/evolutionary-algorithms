{
 "cells": [
  {
   "cell_type": "code",
   "execution_count": 1,
   "metadata": {},
   "outputs": [],
   "source": [
    "import numpy as np\n",
    "from matplotlib import pyplot as plt\n",
    "%matplotlib inline\n",
    "import random"
   ]
  },
  {
   "cell_type": "code",
   "execution_count": 17,
   "metadata": {},
   "outputs": [
    {
     "name": "stdout",
     "output_type": "stream",
     "text": [
      "[1.29293599 1.92742644 0.99531394 0.58607652 0.68184199 0.3094119\n",
      " 0.53384845 0.06099728 1.85499256 1.88629504 0.25786312 0.7700428\n",
      " 0.35651624 0.94468067 1.02120987 1.95283607 0.32301646 0.03628103\n",
      " 0.06755432 0.59214471 1.01243434 0.19278548 1.40110919 1.00241592\n",
      " 0.79028105 0.39110673 1.87599946 0.65674304 1.71699365 1.66899352\n",
      " 0.84202109 0.84789294 1.17890064 1.69080167 0.45316404 0.85724235\n",
      " 1.33131629 0.87972144 0.1685275  1.92270154 0.65681764 1.75178012\n",
      " 0.36130574 0.81028553 1.52974304 1.04870626 1.31738033 0.95833509\n",
      " 1.82251286 1.99515394 0.19496178 1.33497849 1.24039368 1.47901108\n",
      " 1.12466179 1.83980545 1.81381032 0.65544864 0.26944497 1.86008992\n",
      " 0.53466531 0.99910914 0.89807988 1.56563248 0.27391821 0.87001117\n",
      " 0.83417377 0.50547027 1.77346148 1.77598812 0.69905996 1.48466467\n",
      " 0.55351024 1.05328108 0.1340727  1.25667332 0.05890599 1.59928397\n",
      " 0.91454173 0.78093774 1.21834888 1.14607178 1.68238746 0.8662224\n",
      " 0.39726979 0.58723845 1.5113594  0.78341354 0.39992037 1.90879613\n",
      " 1.39445925 0.01113373 0.25599055 0.4897005  0.50474974 0.79255735\n",
      " 0.80729899 1.35903934 1.94788297 0.93108492]\n"
     ]
    }
   ],
   "source": [
    "N_POP = 200\n",
    "N_GEN = 100\n",
    "\n",
    "N_DIM = 100\n",
    "\n",
    "MUT = 0.05\n",
    "CROSS = 0.5\n",
    "\n",
    "random_shift = 2*np.random.random((N_DIM))\n",
    "print (random_shift)"
   ]
  },
  {
   "cell_type": "code",
   "execution_count": 21,
   "metadata": {},
   "outputs": [],
   "source": [
    "def loss(x):\n",
    "    n_dim = x.shape[0]\n",
    "    \n",
    "    # Sphere\n",
    "    y = np.sum((random_shift + x)**2)\n",
    "    return y\n",
    "\n",
    "\n",
    "def generate_random_point(n_dim=N_DIM, lim=10):\n",
    "    pt = (2*np.random.random((n_dim,))-1)*lim\n",
    "    return (pt, loss(pt))\n",
    "\n",
    "pop = [generate_random_point() for ix in range(N_POP)]\n",
    "# print(pop)\n",
    "temp = []\n",
    "\n",
    "def crossover(p1, p2):\n",
    "    n_dim = p1.shape[0]\n",
    "    \n",
    "    c1 = np.zeros(p1.shape)\n",
    "    c2 = np.zeros(p2.shape)\n",
    "    \n",
    "    split = int(n_dim * CROSS)\n",
    "    \n",
    "    if split == 0:\n",
    "        c1 = p1\n",
    "        c2 = p2\n",
    "    else:\n",
    "        c1[:split] = p1[:split]\n",
    "        c1[split:] = p2[split:]\n",
    "        \n",
    "        c2[:split] = p2[:split]\n",
    "        c2[split:] = p1[split:]\n",
    "    return c1, c2\n",
    "\n",
    "def mutate(x):\n",
    "    n_dim = x.shape[0]\n",
    "    X = np.zeros(x.shape)\n",
    "    \n",
    "    for ix in range(n_dim):\n",
    "        r = np.random.random()\n",
    "        if r < MUT:\n",
    "            # mutate\n",
    "            X[ix] = x[ix] + (2*np.random.random() - 1)\n",
    "        else:\n",
    "            X[ix] = x[ix]\n",
    "    return X"
   ]
  },
  {
   "cell_type": "code",
   "execution_count": 22,
   "metadata": {},
   "outputs": [],
   "source": [
    "losses = []"
   ]
  },
  {
   "cell_type": "code",
   "execution_count": 23,
   "metadata": {
    "scrolled": true
   },
   "outputs": [],
   "source": [
    "for gen in range(N_GEN):\n",
    "    # sort the population\n",
    "    ord_pop = sorted(pop, key=lambda x: x[1])\n",
    "    best = ord_pop[0]\n",
    "#     print (best[1], best[0])\n",
    "    losses.append(best[1])\n",
    "    \n",
    "    # create temp population\n",
    "    temp = []\n",
    "    \n",
    "    while len(temp) < N_POP:\n",
    "        # select p1 and p2 (parents)\n",
    "        p1, p2 = random.sample(ord_pop[:int(N_POP/2)], 2)\n",
    "        \n",
    "        # apply crossover to generate c1 and c2 (children)\n",
    "        c1, c2 = crossover(p1[0], p2[0])        \n",
    "        \n",
    "        # apply mutation on c1 and c2\n",
    "        c1 = mutate(c1)\n",
    "        c2 = mutate(c2)\n",
    "        \n",
    "        t = [p1, p2, (c1, loss(c1)), (c2, loss(c2))]\n",
    "        t_sorted = sorted(t, key=lambda x: x[1])\n",
    "        # save the best of p1, p2, c1, c2 in temp\n",
    "        \n",
    "        temp += t_sorted[:2]\n",
    "        \n",
    "    # replace population with temp\n",
    "    pop = temp"
   ]
  },
  {
   "cell_type": "code",
   "execution_count": 24,
   "metadata": {},
   "outputs": [
    {
     "data": {
      "text/plain": [
       "[<matplotlib.lines.Line2D at 0x111faf128>]"
      ]
     },
     "execution_count": 24,
     "metadata": {},
     "output_type": "execute_result"
    },
    {
     "data": {
      "image/png": "[encoded data removed]",
      "text/plain": [
       "<Figure size 432x288 with 1 Axes>"
      ]
     },
     "metadata": {
      "needs_background": "light"
     },
     "output_type": "display_data"
    }
   ],
   "source": [
    "plt.plot(losses)"
   ]
  },
  {
   "cell_type": "code",
   "execution_count": 25,
   "metadata": {},
   "outputs": [
    {
     "data": {
      "text/plain": [
       "(array([-2.75071436,  0.04195777,  2.28013985,  1.16619033,  1.22425708,\n",
       "        -0.5463227 , -1.66778699,  3.68072672, -6.66296587, -1.61893246,\n",
       "        -1.9425586 , -5.46206165, -0.12712392,  3.44476898, -1.09707156,\n",
       "        -1.53275403,  1.84567182,  2.96927334, -3.00673   , -3.85847658,\n",
       "        -2.5633187 ,  0.92762059,  1.32318648, -5.43073274,  5.62119609,\n",
       "        -3.04953179,  3.82521421, -6.50397914,  2.85398697, -2.84345117,\n",
       "        -1.38752325, -2.83659067,  0.86662611, -2.97914169,  2.05698515,\n",
       "         1.59173098,  0.95568477,  0.07708479, -3.79518875, -2.17938447,\n",
       "        -2.02660373, -1.60192003,  3.92444254,  0.79886912, -2.17313388,\n",
       "         0.53189543, -3.43866717, -6.582709  ,  0.23164575, -1.94817811,\n",
       "        -3.88478034, -3.6172896 , -0.38813061,  0.38929336, -2.3344015 ,\n",
       "        -0.76109274, -2.67895797, -2.90243596,  1.23353803, -5.4265649 ,\n",
       "        -2.56172081, -0.32793234, -3.55541875, -2.60218102, -4.45892395,\n",
       "        -5.34042519, -2.18994401, -0.01616654,  2.24707519, -5.85695707,\n",
       "         3.12054416, -2.99110307,  3.73168981,  0.60329282,  4.18114076,\n",
       "         1.18372113,  3.66921488, -6.14487191,  0.42751537,  1.94394316,\n",
       "         0.31515071,  1.02510599, -2.78559469, -3.90216   ,  4.18110893,\n",
       "         2.35539947, -0.27560025, -4.65047833,  2.30577064, -2.65391572,\n",
       "        -4.44415003, -0.82520102, -0.50676551,  5.30779438, -4.93837097,\n",
       "        -5.37559412, -3.84450602,  0.9050604 ,  2.08509524, -1.10253181]),\n",
       " 839.3677017320238)"
      ]
     },
     "execution_count": 25,
     "metadata": {},
     "output_type": "execute_result"
    }
   ],
   "source": [
    "pop[0]"
   ]
  },
  {
   "cell_type": "code",
   "execution_count": null,
   "metadata": {},
   "outputs": [],
   "source": []
  }
 ],
 "metadata": {
  "kernelspec": {
   "display_name": "Python 3",
   "language": "python",
   "name": "python3"
  },
  "language_info": {
   "codemirror_mode": {
    "name": "ipython",
    "version": 3
   },
   "file_extension": ".py",
   "mimetype": "text/x-python",
   "name": "python",
   "nbconvert_exporter": "python",
   "pygments_lexer": "ipython3",
   "version": "3.7.0"
  }
 },
 "nbformat": 4,
 "nbformat_minor": 2
}
